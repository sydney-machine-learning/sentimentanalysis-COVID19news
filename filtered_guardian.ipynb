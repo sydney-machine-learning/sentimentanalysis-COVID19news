{
 "cells": [
  {
   "cell_type": "code",
   "execution_count": 13,
   "metadata": {},
   "outputs": [],
   "source": [
    "import pandas as pd\n",
    "import numpy as np\n"
   ]
  },
  {
   "cell_type": "code",
   "execution_count": 14,
   "metadata": {},
   "outputs": [],
   "source": [
    "# 读取数据\n",
    "file_path = \"/Users/neo/Documents/ngrams/guardian_articles.csv\"\n",
    "df = pd.read_csv(file_path)\n",
    "\n"
   ]
  },
  {
   "cell_type": "code",
   "execution_count": 15,
   "metadata": {},
   "outputs": [
    {
     "name": "stdout",
     "output_type": "stream",
     "text": [
      "Unique sections in the dataset: ['US news' 'World news' 'Football' 'Sport' 'Television & radio'\n",
      " 'Guardian Small Business Network' 'News' 'Australia news' 'Business'\n",
      " 'Opinion' 'Politics' 'Education' 'Money' 'UK news' 'Books' 'Media'\n",
      " 'Life and style' 'Art and design' 'Film' 'Stage' 'Music' 'Environment'\n",
      " \"Children's books\" 'Travel' 'Science' 'Society' 'Technology'\n",
      " 'Guardian Careers' 'Fashion' 'Guardian Sustainable Business' 'Culture'\n",
      " 'Food' 'Global' 'Crosswords' 'Community' 'Law' 'Housing Network'\n",
      " 'Working in development' 'Public Leaders Network' 'Teacher Network'\n",
      " 'Cities' 'Guardian Masterclasses'\n",
      " 'Global Development Professionals Network'\n",
      " 'Healthcare Professionals Network' 'Women in Leadership' 'Media Network'\n",
      " 'Global development' 'Culture professionals network' 'Games'\n",
      " 'Voluntary Sector Network' 'Social Care Network' 'Side Hustle'\n",
      " 'GNM press office' 'Info' 'Membership' 'Guardian Foundation' 'Weather'\n",
      " 'Help' 'From the Observer' 'Trade Boost' 'From the Guardian' 'Inequality'\n",
      " 'Sustainability' 'Salesforce: The Unfair Advantage'\n",
      " 'Guardian US press office' 'Society Professionals' 'Personal Investments'\n",
      " 'Guardian Live Australia' 'wellbeing at work'\n",
      " 'Observer Food Monthly awards' 'Cannes Lions' 'Business to business'\n",
      " 'Animals farmed' 'New faces of tech' 'Higher Education Network'\n",
      " 'Future-focused IT' 'Destination NSW: Uncover the unspoilt South Coast'\n",
      " 'Dairy Australia: Listen to your gut' 'Professional supplements'\n",
      " 'Dairy Australia: Sustainable futures'\n",
      " 'Cathay Pacific: Upgrade your experience' 'Focus' 'The last taboo'\n",
      " 'SBS On Demand' 'OPSM: Life in focus' 'Xero: Resilient business'\n",
      " 'Sonos: Hyper real' 'Westpac Scholars: Rethink tomorrow'\n",
      " 'Commonwealth Bank Australia: Next Chapter'\n",
      " 'Dark Matter Distribution: The Leadership' 'De Bortoli: Going green'\n",
      " 'Dairy Australia: The food matrix' 'WEHI: Brighter together'\n",
      " 'Amazon Prime Video: Truth Seekers'\n",
      " 'Australia Post: Creating connections' 'Guardian Australia press office'\n",
      " 'Powershop: Power potential' 'HBF: Healthy choices'\n",
      " 'Bank Australia: Collective good'\n",
      " 'The University of Melbourne: Graduating Performances'\n",
      " 'Destination NSW: Road Trips' 'Bank Australia: People Australia Needs'\n",
      " 'Felix Mobile: The only one' 'Brother: Doing business well' 'About'\n",
      " 'SBS On Demand: Are You Addicted to Technology'\n",
      " 'Tourism NT: Territory Art Trails'\n",
      " 'Unicef Australia: World Immunisation Week 2021'\n",
      " 'Dairy Australia: We need to talk' 'Square: Good business'\n",
      " \"See if it's time to sell\" 'Chromebook: Helping Chinatown'\n",
      " 'Feasting with Ocado' 'WA Museum: Discovering Ancient Greece'\n",
      " 'Mazda: Sustainable style' 'Dairy Australia: Healthy sustainable diets'\n",
      " 'A time for Japan' 'SBS On Demand: New Gold Mountain' 'HBF: Never Settle'\n",
      " \"Helga's: Capturing kindness\" 'GNM archive' 'Meta: Buy Blak'\n",
      " 'Quest Apartment Hotels: As local as you like it'\n",
      " 'SBS: A world of difference' 'The invested generation'\n",
      " 'Curtin University: Why study law' 'Michelin: Built to keep you moving'\n",
      " 'OPSM: Optimal health' 'Plico: Renewable energy'\n",
      " 'Westpac Foundation: Investing in social enterprise'\n",
      " 'Sustainable home improvements' 'Specsavers: Liberty London'\n",
      " 'Further education: share your skills' 'Kyco: Full transparency'\n",
      " 'MG Motor: Switch to electric' 'BMW: Sustainable mobility'\n",
      " 'Mirvac: Voyager' 'Travel Associates: Get out there in the Red Centre'\n",
      " 'Boutique Homes: My home my way'\n",
      " 'Plan International Australia: Global Hunger Crisis Appeal'\n",
      " 'Snooze: Investing In Sleep' 'Dairy Australia: fracture research'\n",
      " 'The Fred Hollows Foundation: 30 years of restoring sight'\n",
      " 'Marine Stewardship Council: Saltwater Schools' 'You could be here'\n",
      " 'Connected thinking' 'Seek: The new world of work'\n",
      " 'Huelwear - clothes for the conscious' 'Rediscover tequila'\n",
      " 'Macquarie: Home of electric vehicles' 'Dine: Hope Grows'\n",
      " 'Leisure like a local' 'AMC+: Only the good stuff'\n",
      " 'Cancer Council Victoria: Giving in Will'\n",
      " 'The Life You Can Save: Effective giving' 'A vision for better food'\n",
      " 'Australian World Orchestra: Zubin Mehta'\n",
      " 'OPSM: a vision for safer roads' 'Community of solvers'\n",
      " 'When more of us play, all of us win'\n",
      " 'The University of Notre Dame: Ethical education'\n",
      " 'Celebrating women engineers 2022' 'IFAW: Help animals thrive'\n",
      " 'Archie Rose: Tailored spirits']\n"
     ]
    }
   ],
   "source": [
    "# 确认sectionName列的唯一值\n",
    "unique_sections = df['sectionName'].unique()\n",
    "print(\"Unique sections in the dataset:\", unique_sections)\n"
   ]
  },
  {
   "cell_type": "markdown",
   "metadata": {},
   "source": []
  },
  {
   "cell_type": "code",
   "execution_count": 18,
   "metadata": {},
   "outputs": [],
   "source": [
    "import pandas as pd\n",
    "from datetime import datetime\n",
    "\n",
    "df = pd.read_csv('/Users/neo/Documents/ngrams/guardian_articles.csv')\n",
    "df['webPublicationDate'] = df['webPublicationDate'].apply(\n",
    "    lambda x: datetime.strptime(x, \"%Y-%m-%dT%H:%M:%SZ\").strftime(\"%Y-%m-%d\")\n",
    ")\n",
    "\n",
    "df.head()\n",
    "columns_to_drop = ['article_id', 'webTitle', 'webUrl', 'id']\n",
    "modified_df = df.drop(columns=columns_to_drop, axis=1)"
   ]
  },
  {
   "cell_type": "code",
   "execution_count": 19,
   "metadata": {},
   "outputs": [
    {
     "data": {
      "text/html": [
       "<div>\n",
       "<style scoped>\n",
       "    .dataframe tbody tr th:only-of-type {\n",
       "        vertical-align: middle;\n",
       "    }\n",
       "\n",
       "    .dataframe tbody tr th {\n",
       "        vertical-align: top;\n",
       "    }\n",
       "\n",
       "    .dataframe thead th {\n",
       "        text-align: right;\n",
       "    }\n",
       "</style>\n",
       "<table border=\"1\" class=\"dataframe\">\n",
       "  <thead>\n",
       "    <tr style=\"text-align: right;\">\n",
       "      <th></th>\n",
       "      <th>sectionName</th>\n",
       "      <th>bodyContent</th>\n",
       "      <th>webPublicationDate</th>\n",
       "    </tr>\n",
       "  </thead>\n",
       "  <tbody>\n",
       "    <tr>\n",
       "      <th>0</th>\n",
       "      <td>US news</td>\n",
       "      <td>As polling day looms and the cameras turn only...</td>\n",
       "      <td>2016-01-31</td>\n",
       "    </tr>\n",
       "    <tr>\n",
       "      <th>1</th>\n",
       "      <td>US news</td>\n",
       "      <td>In Des Moines on Sunday, the Guardian was give...</td>\n",
       "      <td>2016-01-31</td>\n",
       "    </tr>\n",
       "    <tr>\n",
       "      <th>2</th>\n",
       "      <td>World news</td>\n",
       "      <td>A British pilot who was shot dead by an elepha...</td>\n",
       "      <td>2016-01-31</td>\n",
       "    </tr>\n",
       "    <tr>\n",
       "      <th>3</th>\n",
       "      <td>Football</td>\n",
       "      <td>USA took a step toward shaking off the ghosts ...</td>\n",
       "      <td>2016-01-31</td>\n",
       "    </tr>\n",
       "    <tr>\n",
       "      <th>4</th>\n",
       "      <td>Football</td>\n",
       "      <td>The clean-shaven, spectacle free and suspiciou...</td>\n",
       "      <td>2016-01-31</td>\n",
       "    </tr>\n",
       "  </tbody>\n",
       "</table>\n",
       "</div>"
      ],
      "text/plain": [
       "  sectionName                                        bodyContent  \\\n",
       "0     US news  As polling day looms and the cameras turn only...   \n",
       "1     US news  In Des Moines on Sunday, the Guardian was give...   \n",
       "2  World news  A British pilot who was shot dead by an elepha...   \n",
       "3    Football  USA took a step toward shaking off the ghosts ...   \n",
       "4    Football  The clean-shaven, spectacle free and suspiciou...   \n",
       "\n",
       "  webPublicationDate  \n",
       "0         2016-01-31  \n",
       "1         2016-01-31  \n",
       "2         2016-01-31  \n",
       "3         2016-01-31  \n",
       "4         2016-01-31  "
      ]
     },
     "execution_count": 19,
     "metadata": {},
     "output_type": "execute_result"
    }
   ],
   "source": [
    "modified_df.head()"
   ]
  },
  {
   "cell_type": "code",
   "execution_count": 20,
   "metadata": {},
   "outputs": [
    {
     "data": {
      "text/plain": [
       "sectionName\n",
       "World news        15501\n",
       "Opinion           12130\n",
       "Football          10896\n",
       "Sport             10376\n",
       "Australia news     7844\n",
       "US news            7480\n",
       "Politics           7074\n",
       "Business           6990\n",
       "UK news            6481\n",
       "Life and style     5773\n",
       "Name: count, dtype: int64"
      ]
     },
     "execution_count": 20,
     "metadata": {},
     "output_type": "execute_result"
    }
   ],
   "source": [
    "modified_df['sectionName'].value_counts().head(10)"
   ]
  },
  {
   "cell_type": "code",
   "execution_count": 21,
   "metadata": {},
   "outputs": [],
   "source": [
    "# 确保日期列是日期类型\n",
    "modified_df['webPublicationDate'] = pd.to_datetime(modified_df['webPublicationDate']).dt.date\n",
    "\n",
    "# 步骤2: 筛选日期\n",
    "start_date = datetime.strptime('2018-01-01', '%Y-%m-%d').date()\n",
    "end_date = datetime.strptime('2022-03-31', '%Y-%m-%d').date()\n",
    "date_filtered_df = modified_df[(modified_df['webPublicationDate'] >= start_date) & (modified_df['webPublicationDate'] <= end_date)]"
   ]
  },
  {
   "cell_type": "code",
   "execution_count": 22,
   "metadata": {},
   "outputs": [
    {
     "data": {
      "text/plain": [
       "sectionName\n",
       "World news        11269\n",
       "Opinion            7912\n",
       "Football           7135\n",
       "Sport              6633\n",
       "Australia news     5419\n",
       "US news            5004\n",
       "Business           4672\n",
       "Politics           4606\n",
       "UK news            4255\n",
       "Life and style     3804\n",
       "Name: count, dtype: int64"
      ]
     },
     "execution_count": 22,
     "metadata": {},
     "output_type": "execute_result"
    }
   ],
   "source": [
    "date_filtered_df['sectionName'].value_counts().head(10)"
   ]
  },
  {
   "cell_type": "code",
   "execution_count": 48,
   "metadata": {},
   "outputs": [],
   "source": [
    "# 确保日期列是日期类型\n",
    "modified_df['webPublicationDate'] = pd.to_datetime(modified_df['webPublicationDate']).dt.date\n",
    "\n",
    "# 步骤2: 筛选日期\n",
    "start_date = datetime.strptime('2018-01-01', '%Y-%m-%d').date()\n",
    "end_date = datetime.strptime('2022-03-31', '%Y-%m-%d').date()\n",
    "date_filtered_df = modified_df[(modified_df['webPublicationDate'] >= start_date) & (modified_df['webPublicationDate'] <= end_date)]\n",
    "\n",
    "\n",
    "# 步骤3: 筛选sectionName\n",
    "section_names = ['World news','Opinion','Australia news','Politics','Business','UK news'\n",
    "]\n",
    "section_filtered_df = date_filtered_df[date_filtered_df['sectionName'].isin(section_names)]\n",
    "\n",
    "# 步骤4: 保存筛选后的数据\n",
    "new_file_path = '/Users/neo/Documents/ngrams/filtered_guardian_articles.csv'\n",
    "section_filtered_df.to_csv(new_file_path, index=False)\n"
   ]
  },
  {
   "cell_type": "code",
   "execution_count": 49,
   "metadata": {},
   "outputs": [
    {
     "name": "stdout",
     "output_type": "stream",
     "text": [
      "<class 'pandas.core.frame.DataFrame'>\n",
      "RangeIndex: 38133 entries, 0 to 38132\n",
      "Data columns (total 3 columns):\n",
      " #   Column              Non-Null Count  Dtype \n",
      "---  ------              --------------  ----- \n",
      " 0   sectionName         38133 non-null  object\n",
      " 1   bodyContent         37938 non-null  object\n",
      " 2   webPublicationDate  38133 non-null  object\n",
      "dtypes: object(3)\n",
      "memory usage: 893.9+ KB\n"
     ]
    }
   ],
   "source": [
    "filtered = pd.read_csv('/Users/neo/Documents/ngrams/filtered_guardian_articles.csv')\n",
    "filtered.info()"
   ]
  }
 ],
 "metadata": {
  "kernelspec": {
   "display_name": "Python 3",
   "language": "python",
   "name": "python3"
  },
  "language_info": {
   "codemirror_mode": {
    "name": "ipython",
    "version": 3
   },
   "file_extension": ".py",
   "mimetype": "text/x-python",
   "name": "python",
   "nbconvert_exporter": "python",
   "pygments_lexer": "ipython3",
   "version": "3.11.4"
  },
  "orig_nbformat": 4
 },
 "nbformat": 4,
 "nbformat_minor": 2
}
